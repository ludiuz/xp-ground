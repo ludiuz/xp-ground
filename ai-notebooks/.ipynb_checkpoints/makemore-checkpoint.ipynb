{
 "cells": [
  {
   "cell_type": "code",
   "execution_count": null,
   "id": "20e748f5",
   "metadata": {},
   "outputs": [],
   "source": [
    "# heavely inspired by Andrej Karpathy serie Zero to Hero\n",
    "# paper: https://www.jmlr.org/papers/volume3/bengio03a/bengio03a.pdf"
   ]
  },
  {
   "cell_type": "code",
   "execution_count": 1,
   "id": "c1fe466e",
   "metadata": {},
   "outputs": [],
   "source": [
    "import numpy\n",
    "import torch"
   ]
  },
  {
   "cell_type": "code",
   "execution_count": 4,
   "id": "118bf85c",
   "metadata": {},
   "outputs": [
    {
     "name": "stdout",
     "output_type": "stream",
     "text": [
      "Python 3.11.2\r\n"
     ]
    }
   ],
   "source": [
    "!python --version"
   ]
  },
  {
   "cell_type": "markdown",
   "id": "2ca4292d",
   "metadata": {},
   "source": [
    "### building dataset"
   ]
  },
  {
   "cell_type": "code",
   "execution_count": 5,
   "id": "672e6b8b",
   "metadata": {},
   "outputs": [],
   "source": [
    "words = open('names.txt', 'r').read().splitlines()"
   ]
  },
  {
   "cell_type": "code",
   "execution_count": 8,
   "id": "c7d6e9e2",
   "metadata": {},
   "outputs": [
    {
     "data": {
      "text/plain": [
       "[(('a', 1), (1, 'a')),\n",
       " (('b', 2), (2, 'b')),\n",
       " (('c', 3), (3, 'c')),\n",
       " (('d', 4), (4, 'd')),\n",
       " (('e', 5), (5, 'e')),\n",
       " (('f', 6), (6, 'f')),\n",
       " (('g', 7), (7, 'g')),\n",
       " (('h', 8), (8, 'h')),\n",
       " (('i', 9), (9, 'i')),\n",
       " (('j', 10), (10, 'j')),\n",
       " (('k', 11), (11, 'k')),\n",
       " (('l', 12), (12, 'l')),\n",
       " (('m', 13), (13, 'm')),\n",
       " (('n', 14), (14, 'n')),\n",
       " (('o', 15), (15, 'o')),\n",
       " (('p', 16), (16, 'p')),\n",
       " (('q', 17), (17, 'q')),\n",
       " (('r', 18), (18, 'r')),\n",
       " (('s', 19), (19, 's')),\n",
       " (('t', 20), (20, 't')),\n",
       " (('u', 21), (21, 'u')),\n",
       " (('v', 22), (22, 'v')),\n",
       " (('w', 23), (23, 'w')),\n",
       " (('x', 24), (24, 'x')),\n",
       " (('y', 25), (25, 'y')),\n",
       " (('z', 26), (26, 'z')),\n",
       " (('.', 0), (0, '.'))]"
      ]
     },
     "execution_count": 8,
     "metadata": {},
     "output_type": "execute_result"
    }
   ],
   "source": [
    "chars = sorted(list(set(''.join(words))))\n",
    "stoi = {s:i+1 for i,s in enumerate(chars)}\n",
    "stoi['.'] = 0 # add 27th character, which represent Start and End tokens\n",
    "itos = {i: s for s, i in stoi.items()}\n",
    "[(i, j) for i, j in zip(stoi.items(), itos.items())]"
   ]
  },
  {
   "cell_type": "code",
   "execution_count": 21,
   "id": "bdd80783",
   "metadata": {},
   "outputs": [
    {
     "name": "stdout",
     "output_type": "stream",
     "text": [
      "emma\n",
      "... ---> e\n",
      "..e ---> m\n",
      ".em ---> m\n",
      "emm ---> a\n",
      "mma ---> .\n",
      "==========\n",
      "olivia\n",
      "... ---> o\n",
      "..o ---> l\n",
      ".ol ---> i\n",
      "oli ---> v\n",
      "liv ---> i\n",
      "ivi ---> a\n",
      "via ---> .\n",
      "==========\n",
      "ava\n",
      "... ---> a\n",
      "..a ---> v\n",
      ".av ---> a\n",
      "ava ---> .\n",
      "==========\n",
      "isabella\n",
      "... ---> i\n",
      "..i ---> s\n",
      ".is ---> a\n",
      "isa ---> b\n",
      "sab ---> e\n",
      "abe ---> l\n",
      "bel ---> l\n",
      "ell ---> a\n",
      "lla ---> .\n",
      "==========\n"
     ]
    }
   ],
   "source": [
    "# size of 'window' of chars from word\n",
    "# every iteration the 'window' moves by one char\n",
    "block_size = 3\n",
    "X, Y = [], []\n",
    "for w in words[:4]:\n",
    "    print(w)\n",
    "    context = [0] * block_size # create first empty block of chars\n",
    "    for ch in w + '.':\n",
    "        ix = stoi[ch]\n",
    "        X.append(context)\n",
    "        Y.append(ix)\n",
    "        print(''.join(itos[i] for i in context), '--->', ch) # 'ch' or itos[ix]\n",
    "        context = context[1:] + [ix]\n",
    "    print(\"=\"*10)\n",
    "# new dataset\n",
    "X = torch.Tensor(X)\n",
    "Y = torch.Tensor(Y)"
   ]
  },
  {
   "cell_type": "code",
   "execution_count": 20,
   "id": "5f6ba422",
   "metadata": {},
   "outputs": [
    {
     "data": {
      "text/plain": [
       "(torch.Size([32, 3]), torch.float32, torch.Size([32]), torch.float32)"
      ]
     },
     "execution_count": 20,
     "metadata": {},
     "output_type": "execute_result"
    }
   ],
   "source": [
    "X.shape, X.dtype, Y.shape, Y.dtype"
   ]
  },
  {
   "cell_type": "code",
   "execution_count": null,
   "id": "fcc11d9a",
   "metadata": {},
   "outputs": [],
   "source": []
  },
  {
   "cell_type": "code",
   "execution_count": null,
   "id": "db18109e",
   "metadata": {},
   "outputs": [],
   "source": []
  }
 ],
 "metadata": {
  "kernelspec": {
   "display_name": "Python 3 (ipykernel)",
   "language": "python",
   "name": "python3"
  },
  "language_info": {
   "codemirror_mode": {
    "name": "ipython",
    "version": 3
   },
   "file_extension": ".py",
   "mimetype": "text/x-python",
   "name": "python",
   "nbconvert_exporter": "python",
   "pygments_lexer": "ipython3",
   "version": "3.11.2"
  }
 },
 "nbformat": 4,
 "nbformat_minor": 5
}
